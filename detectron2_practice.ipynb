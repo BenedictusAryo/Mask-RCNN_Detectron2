{
 "cells": [
  {
   "cell_type": "markdown",
   "metadata": {},
   "source": [
    "# Detectron2 for Computer Vision Image Recognition\n",
    "\n",
    "<img src=\"https://dl.fbaipublicfiles.com/detectron2/Detectron2-Logo-Horz.png\" width=\"500\">\n",
    "\n",
    "Detectron2 is Facebook AI Research's next generation software system\n",
    "that implements state-of-the-art object detection algorithms.\n",
    "It is a ground-up rewrite of the previous version,\n",
    "[Detectron](https://github.com/facebookresearch/Detectron/),\n",
    "and it originates from [maskrcnn-benchmark](https://github.com/facebookresearch/maskrcnn-benchmark/).\n",
    "\n",
    "<div align=\"center\">\n",
    "  <img src=\"https://user-images.githubusercontent.com/1381301/66535560-d3422200-eace-11e9-9123-5535d469db19.png\"/>\n",
    "</div>\n",
    "\n",
    "---\n",
    "\n",
    "Detectron2 having fastest training time compared with some other popular open source Mask R-CNN implementations. <br>\n",
    "Here's the bechmarck\n",
    "\n",
    "<img src=\"\">"
   ]
  },
  {
   "cell_type": "code",
   "execution_count": null,
   "metadata": {},
   "outputs": [],
   "source": []
  }
 ],
 "metadata": {
  "kernelspec": {
   "display_name": "Python 3",
   "language": "python",
   "name": "python3"
  },
  "language_info": {
   "codemirror_mode": {
    "name": "ipython",
    "version": 3
   },
   "file_extension": ".py",
   "mimetype": "text/x-python",
   "name": "python",
   "nbconvert_exporter": "python",
   "pygments_lexer": "ipython3",
   "version": "3.6.10"
  }
 },
 "nbformat": 4,
 "nbformat_minor": 4
}
